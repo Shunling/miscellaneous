{
 "cells": [
  {
   "cell_type": "code",
   "execution_count": 1,
   "metadata": {},
   "outputs": [],
   "source": [
    "import pandas as pd\n",
    "import numpy as np\n"
   ]
  },
  {
   "cell_type": "code",
   "execution_count": 3,
   "metadata": {},
   "outputs": [],
   "source": [
    "df = pd.read_csv('gene_result.txt',sep='\\t')"
   ]
  },
  {
   "cell_type": "code",
   "execution_count": 7,
   "metadata": {},
   "outputs": [
    {
     "data": {
      "text/plain": [
       "(1937, 18)"
      ]
     },
     "execution_count": 7,
     "metadata": {},
     "output_type": "execute_result"
    }
   ],
   "source": [
    "df.shape"
   ]
  },
  {
   "cell_type": "code",
   "execution_count": 10,
   "metadata": {},
   "outputs": [
    {
     "data": {
      "text/plain": [
       "1936"
      ]
     },
     "execution_count": 10,
     "metadata": {},
     "output_type": "execute_result"
    }
   ],
   "source": [
    "len(df.Symbol.unique())"
   ]
  },
  {
   "cell_type": "code",
   "execution_count": 16,
   "metadata": {},
   "outputs": [
    {
     "data": {
      "text/plain": [
       "0    ; 5-hydroxytryptamine receptor 2A|5-HT2 recept...\n",
       "1    ; 5-hydroxytryptamine receptor 2C|5-hydroxytry...\n",
       "2    ; proteinase-activated receptor 2|G-protein co...\n",
       "3    ; 5-hydroxytryptamine receptor 1B|5-hydroxytry...\n",
       "4    ; 5-hydroxytryptamine receptor 1A|5-HT1a recep...\n",
       "Name: other_designations, dtype: object"
      ]
     },
     "execution_count": 16,
     "metadata": {},
     "output_type": "execute_result"
    }
   ],
   "source": [
    "df.other_designations.head()"
   ]
  },
  {
   "cell_type": "code",
   "execution_count": 17,
   "metadata": {},
   "outputs": [],
   "source": [
    "receptors_ids = [i for i in range(df.shape[0]) if 'receptor' in df.iloc[i].description]"
   ]
  },
  {
   "cell_type": "code",
   "execution_count": 19,
   "metadata": {},
   "outputs": [
    {
     "data": {
      "text/plain": [
       "1335"
      ]
     },
     "execution_count": 19,
     "metadata": {},
     "output_type": "execute_result"
    }
   ],
   "source": [
    "len(receptors_ids)"
   ]
  },
  {
   "cell_type": "code",
   "execution_count": 20,
   "metadata": {},
   "outputs": [],
   "source": [
    "df_r = df.iloc[receptors_ids]"
   ]
  },
  {
   "cell_type": "code",
   "execution_count": 28,
   "metadata": {},
   "outputs": [],
   "source": [
    "real_receptors_ids = [i for i in range(df_r.shape[0]) if 'pseudogene' not in df_r.iloc[i].description]"
   ]
  },
  {
   "cell_type": "code",
   "execution_count": 29,
   "metadata": {},
   "outputs": [],
   "source": [
    "true_receptors = df_r.iloc[real_receptors_ids]"
   ]
  },
  {
   "cell_type": "code",
   "execution_count": 31,
   "metadata": {},
   "outputs": [
    {
     "data": {
      "text/plain": [
       "(790, 18)"
      ]
     },
     "execution_count": 31,
     "metadata": {},
     "output_type": "execute_result"
    }
   ],
   "source": [
    "true_receptors.shape"
   ]
  },
  {
   "cell_type": "code",
   "execution_count": 32,
   "metadata": {},
   "outputs": [],
   "source": [
    "ors_ids = [i for i in range(true_receptors.shape[0]) if 'olfactory' in true_receptors.iloc[i].description]"
   ]
  },
  {
   "cell_type": "code",
   "execution_count": 33,
   "metadata": {},
   "outputs": [
    {
     "data": {
      "text/plain": [
       "348"
      ]
     },
     "execution_count": 33,
     "metadata": {},
     "output_type": "execute_result"
    }
   ],
   "source": [
    "len(ors_ids)"
   ]
  },
  {
   "cell_type": "code",
   "execution_count": 34,
   "metadata": {},
   "outputs": [],
   "source": [
    "true_receptors.to_csv('GPCRs.csv')"
   ]
  },
  {
   "cell_type": "code",
   "execution_count": null,
   "metadata": {},
   "outputs": [],
   "source": []
  },
  {
   "cell_type": "code",
   "execution_count": null,
   "metadata": {},
   "outputs": [],
   "source": []
  },
  {
   "cell_type": "code",
   "execution_count": null,
   "metadata": {},
   "outputs": [],
   "source": []
  },
  {
   "cell_type": "code",
   "execution_count": 1,
   "metadata": {},
   "outputs": [],
   "source": [
    "# gene topic research trend"
   ]
  },
  {
   "cell_type": "code",
   "execution_count": 2,
   "metadata": {},
   "outputs": [],
   "source": [
    "import pandas as pd\n",
    "import numpy as np\n",
    "\n"
   ]
  },
  {
   "cell_type": "code",
   "execution_count": 50,
   "metadata": {},
   "outputs": [],
   "source": [
    "rtrend = pd.read_csv('receptor_table_1.csv')"
   ]
  },
  {
   "cell_type": "code",
   "execution_count": 15,
   "metadata": {},
   "outputs": [
    {
     "name": "stdout",
     "output_type": "stream",
     "text": [
      "<class 'pandas.core.frame.DataFrame'>\n",
      "RangeIndex: 385 entries, 0 to 384\n",
      "Data columns (total 4 columns):\n",
      "i         385 non-null int64\n",
      "gene      385 non-null object\n",
      "years     385 non-null object\n",
      "papers    385 non-null int64\n",
      "dtypes: int64(2), object(2)\n",
      "memory usage: 12.2+ KB\n"
     ]
    }
   ],
   "source": [
    "rtrend.info()"
   ]
  },
  {
   "cell_type": "code",
   "execution_count": 51,
   "metadata": {},
   "outputs": [
    {
     "data": {
      "text/html": [
       "<div>\n",
       "<style scoped>\n",
       "    .dataframe tbody tr th:only-of-type {\n",
       "        vertical-align: middle;\n",
       "    }\n",
       "\n",
       "    .dataframe tbody tr th {\n",
       "        vertical-align: top;\n",
       "    }\n",
       "\n",
       "    .dataframe thead th {\n",
       "        text-align: right;\n",
       "    }\n",
       "</style>\n",
       "<table border=\"1\" class=\"dataframe\">\n",
       "  <thead>\n",
       "    <tr style=\"text-align: right;\">\n",
       "      <th></th>\n",
       "      <th>i</th>\n",
       "      <th>gene</th>\n",
       "      <th>years</th>\n",
       "      <th>papers</th>\n",
       "    </tr>\n",
       "  </thead>\n",
       "  <tbody>\n",
       "    <tr>\n",
       "      <th>0</th>\n",
       "      <td>147</td>\n",
       "      <td>esr1</td>\n",
       "      <td>{'1948': 1, '1949': 1, '1951': 3, '1952': 5, '...</td>\n",
       "      <td>310143</td>\n",
       "    </tr>\n",
       "    <tr>\n",
       "      <th>1</th>\n",
       "      <td>107</td>\n",
       "      <td>f2r</td>\n",
       "      <td>{'1946': 1, '1948': 3, '1949': 4, '1950': 2, '...</td>\n",
       "      <td>297183</td>\n",
       "    </tr>\n",
       "    <tr>\n",
       "      <th>2</th>\n",
       "      <td>347</td>\n",
       "      <td>ntsr1</td>\n",
       "      <td>{'1946': 1, '1948': 1, '1952': 2, '1954': 2, '...</td>\n",
       "      <td>196064</td>\n",
       "    </tr>\n",
       "    <tr>\n",
       "      <th>3</th>\n",
       "      <td>264</td>\n",
       "      <td>avpr2</td>\n",
       "      <td>{'1948': 1, '1949': 1, '1950': 1, '1951': 1, '...</td>\n",
       "      <td>171823</td>\n",
       "    </tr>\n",
       "    <tr>\n",
       "      <th>4</th>\n",
       "      <td>350</td>\n",
       "      <td>nr1i2</td>\n",
       "      <td>{'1948': 1, '1949': 1, '1952': 4, '1953': 1, '...</td>\n",
       "      <td>167960</td>\n",
       "    </tr>\n",
       "  </tbody>\n",
       "</table>\n",
       "</div>"
      ],
      "text/plain": [
       "     i   gene                                              years  papers\n",
       "0  147   esr1  {'1948': 1, '1949': 1, '1951': 3, '1952': 5, '...  310143\n",
       "1  107    f2r  {'1946': 1, '1948': 3, '1949': 4, '1950': 2, '...  297183\n",
       "2  347  ntsr1  {'1946': 1, '1948': 1, '1952': 2, '1954': 2, '...  196064\n",
       "3  264  avpr2  {'1948': 1, '1949': 1, '1950': 1, '1951': 1, '...  171823\n",
       "4  350  nr1i2  {'1948': 1, '1949': 1, '1952': 4, '1953': 1, '...  167960"
      ]
     },
     "execution_count": 51,
     "metadata": {},
     "output_type": "execute_result"
    }
   ],
   "source": [
    "rtrend.head()"
   ]
  },
  {
   "cell_type": "code",
   "execution_count": 94,
   "metadata": {},
   "outputs": [
    {
     "data": {
      "text/html": [
       "<div>\n",
       "<style scoped>\n",
       "    .dataframe tbody tr th:only-of-type {\n",
       "        vertical-align: middle;\n",
       "    }\n",
       "\n",
       "    .dataframe tbody tr th {\n",
       "        vertical-align: top;\n",
       "    }\n",
       "\n",
       "    .dataframe thead th {\n",
       "        text-align: right;\n",
       "    }\n",
       "</style>\n",
       "<table border=\"1\" class=\"dataframe\">\n",
       "  <thead>\n",
       "    <tr style=\"text-align: right;\">\n",
       "      <th></th>\n",
       "      <th>year</th>\n",
       "    </tr>\n",
       "  </thead>\n",
       "  <tbody>\n",
       "    <tr>\n",
       "      <th>0</th>\n",
       "      <td>1946</td>\n",
       "    </tr>\n",
       "    <tr>\n",
       "      <th>1</th>\n",
       "      <td>1947</td>\n",
       "    </tr>\n",
       "    <tr>\n",
       "      <th>2</th>\n",
       "      <td>1948</td>\n",
       "    </tr>\n",
       "    <tr>\n",
       "      <th>3</th>\n",
       "      <td>1949</td>\n",
       "    </tr>\n",
       "    <tr>\n",
       "      <th>4</th>\n",
       "      <td>1950</td>\n",
       "    </tr>\n",
       "  </tbody>\n",
       "</table>\n",
       "</div>"
      ],
      "text/plain": [
       "   year\n",
       "0  1946\n",
       "1  1947\n",
       "2  1948\n",
       "3  1949\n",
       "4  1950"
      ]
     },
     "execution_count": 94,
     "metadata": {},
     "output_type": "execute_result"
    }
   ],
   "source": [
    "from tqdm import tqdm\n",
    "gtrend = pd.DataFrame({'year':range(1946,2020)})\n",
    "gtrend.head()"
   ]
  },
  {
   "cell_type": "code",
   "execution_count": 95,
   "metadata": {},
   "outputs": [
    {
     "name": "stderr",
     "output_type": "stream",
     "text": [
      "\n",
      "  0%|          | 0/385 [00:00<?, ?it/s]\u001b[A\n",
      "  4%|▍         | 15/385 [00:00<00:02, 148.46it/s]\u001b[A\n",
      "  7%|▋         | 26/385 [00:00<00:02, 132.31it/s]\u001b[A\n",
      " 10%|▉         | 38/385 [00:00<00:02, 127.58it/s]\u001b[A\n",
      " 13%|█▎        | 49/385 [00:00<00:02, 119.55it/s]\u001b[A\n",
      " 15%|█▌        | 58/385 [00:00<00:03, 103.51it/s]\u001b[A\n",
      " 17%|█▋        | 67/385 [00:00<00:03, 92.98it/s] \u001b[A\n",
      " 20%|█▉        | 76/385 [00:00<00:04, 76.14it/s]\u001b[A\n",
      " 22%|██▏       | 84/385 [00:00<00:04, 65.26it/s]\u001b[A\n",
      " 24%|██▎       | 91/385 [00:01<00:04, 60.28it/s]\u001b[A\n",
      " 25%|██▌       | 98/385 [00:01<00:05, 56.13it/s]\u001b[A\n",
      " 27%|██▋       | 104/385 [00:01<00:05, 54.76it/s]\u001b[A\n",
      " 29%|██▊       | 110/385 [00:01<00:05, 51.29it/s]\u001b[A\n",
      " 30%|███       | 116/385 [00:01<00:05, 47.80it/s]\u001b[A\n",
      " 31%|███▏      | 121/385 [00:01<00:05, 45.88it/s]\u001b[A\n",
      " 33%|███▎      | 126/385 [00:01<00:06, 42.58it/s]\u001b[A\n",
      " 34%|███▍      | 131/385 [00:02<00:05, 42.36it/s]\u001b[A\n",
      " 35%|███▌      | 136/385 [00:02<00:06, 40.43it/s]\u001b[A\n",
      " 37%|███▋      | 141/385 [00:02<00:06, 39.68it/s]\u001b[A\n",
      " 38%|███▊      | 146/385 [00:02<00:06, 37.63it/s]\u001b[A\n",
      " 39%|███▉      | 150/385 [00:02<00:06, 38.05it/s]\u001b[A\n",
      " 40%|████      | 154/385 [00:02<00:06, 37.95it/s]\u001b[A\n",
      " 41%|████      | 158/385 [00:02<00:06, 36.86it/s]\u001b[A\n",
      " 42%|████▏     | 162/385 [00:02<00:06, 36.66it/s]\u001b[A\n",
      " 43%|████▎     | 166/385 [00:02<00:06, 36.05it/s]\u001b[A\n",
      " 44%|████▍     | 170/385 [00:03<00:06, 35.79it/s]\u001b[A\n",
      " 45%|████▌     | 174/385 [00:03<00:06, 34.64it/s]\u001b[A\n",
      " 46%|████▌     | 178/385 [00:03<00:06, 33.65it/s]\u001b[A\n",
      " 47%|████▋     | 182/385 [00:03<00:06, 31.98it/s]\u001b[A\n",
      " 48%|████▊     | 186/385 [00:03<00:07, 28.43it/s]\u001b[A\n",
      " 49%|████▉     | 189/385 [00:03<00:07, 27.83it/s]\u001b[A\n",
      " 50%|█████     | 193/385 [00:03<00:06, 28.57it/s]\u001b[A\n",
      " 51%|█████     | 196/385 [00:04<00:06, 28.57it/s]\u001b[A\n",
      " 52%|█████▏    | 200/385 [00:04<00:06, 29.43it/s]\u001b[A\n",
      " 53%|█████▎    | 203/385 [00:04<00:06, 29.01it/s]\u001b[A\n",
      " 54%|█████▎    | 206/385 [00:04<00:06, 27.89it/s]\u001b[A\n",
      " 54%|█████▍    | 209/385 [00:04<00:06, 26.94it/s]\u001b[A\n",
      " 55%|█████▌    | 212/385 [00:04<00:06, 27.44it/s]\u001b[A\n",
      " 56%|█████▌    | 215/385 [00:04<00:06, 27.45it/s]\u001b[A\n",
      " 57%|█████▋    | 218/385 [00:04<00:06, 27.15it/s]\u001b[A\n",
      " 57%|█████▋    | 221/385 [00:04<00:06, 26.73it/s]\u001b[A\n",
      " 58%|█████▊    | 224/385 [00:05<00:06, 26.68it/s]\u001b[A\n",
      " 59%|█████▉    | 227/385 [00:05<00:06, 26.24it/s]\u001b[A\n",
      " 60%|█████▉    | 230/385 [00:05<00:06, 24.11it/s]\u001b[A\n",
      " 61%|██████    | 233/385 [00:05<00:06, 24.24it/s]\u001b[A\n",
      " 61%|██████▏   | 236/385 [00:05<00:06, 24.33it/s]\u001b[A\n",
      " 62%|██████▏   | 239/385 [00:05<00:06, 24.02it/s]\u001b[A\n",
      " 63%|██████▎   | 242/385 [00:05<00:06, 23.42it/s]\u001b[A\n",
      " 64%|██████▎   | 245/385 [00:05<00:06, 21.69it/s]\u001b[A\n",
      " 64%|██████▍   | 248/385 [00:06<00:06, 22.01it/s]\u001b[A\n",
      " 65%|██████▌   | 251/385 [00:06<00:06, 22.12it/s]\u001b[A\n",
      " 66%|██████▌   | 254/385 [00:06<00:05, 21.98it/s]\u001b[A\n",
      " 67%|██████▋   | 257/385 [00:06<00:05, 21.36it/s]\u001b[A\n",
      " 68%|██████▊   | 260/385 [00:06<00:06, 20.33it/s]\u001b[A\n",
      " 68%|██████▊   | 263/385 [00:06<00:06, 18.62it/s]\u001b[A\n",
      " 69%|██████▉   | 265/385 [00:07<00:06, 18.80it/s]\u001b[A\n",
      " 69%|██████▉   | 267/385 [00:07<00:06, 18.59it/s]\u001b[A\n",
      " 70%|██████▉   | 269/385 [00:07<00:06, 18.76it/s]\u001b[A\n",
      " 70%|███████   | 271/385 [00:07<00:06, 18.81it/s]\u001b[A\n",
      " 71%|███████   | 273/385 [00:07<00:06, 18.55it/s]\u001b[A\n",
      " 71%|███████▏  | 275/385 [00:07<00:06, 18.08it/s]\u001b[A\n",
      " 72%|███████▏  | 277/385 [00:07<00:06, 17.62it/s]\u001b[A\n",
      " 72%|███████▏  | 279/385 [00:07<00:06, 17.38it/s]\u001b[A\n",
      " 73%|███████▎  | 281/385 [00:07<00:06, 16.98it/s]\u001b[A\n",
      " 74%|███████▎  | 283/385 [00:08<00:05, 17.28it/s]\u001b[A\n",
      " 74%|███████▍  | 285/385 [00:08<00:05, 16.93it/s]\u001b[A\n",
      " 75%|███████▍  | 287/385 [00:08<00:05, 16.95it/s]\u001b[A\n",
      " 75%|███████▌  | 289/385 [00:08<00:05, 16.98it/s]\u001b[A\n",
      " 76%|███████▌  | 291/385 [00:08<00:05, 16.50it/s]\u001b[A\n",
      " 76%|███████▌  | 293/385 [00:08<00:05, 16.36it/s]\u001b[A\n",
      " 77%|███████▋  | 295/385 [00:08<00:05, 15.40it/s]\u001b[A\n",
      " 77%|███████▋  | 297/385 [00:08<00:06, 14.11it/s]\u001b[A\n",
      " 78%|███████▊  | 299/385 [00:09<00:05, 14.66it/s]\u001b[A\n",
      " 78%|███████▊  | 301/385 [00:09<00:05, 14.76it/s]\u001b[A\n",
      " 79%|███████▊  | 303/385 [00:09<00:05, 14.93it/s]\u001b[A\n",
      " 79%|███████▉  | 305/385 [00:09<00:05, 14.91it/s]\u001b[A\n",
      " 80%|███████▉  | 307/385 [00:09<00:05, 14.76it/s]\u001b[A\n",
      " 80%|████████  | 309/385 [00:09<00:05, 14.53it/s]\u001b[A\n",
      " 81%|████████  | 311/385 [00:09<00:05, 14.69it/s]\u001b[A\n",
      " 81%|████████▏ | 313/385 [00:10<00:04, 14.64it/s]\u001b[A\n",
      " 82%|████████▏ | 315/385 [00:10<00:04, 14.77it/s]\u001b[A\n",
      " 82%|████████▏ | 317/385 [00:10<00:04, 14.89it/s]\u001b[A\n",
      " 83%|████████▎ | 319/385 [00:10<00:04, 13.90it/s]\u001b[A\n",
      " 83%|████████▎ | 321/385 [00:10<00:04, 14.15it/s]\u001b[A\n",
      " 84%|████████▍ | 323/385 [00:10<00:04, 14.08it/s]\u001b[A\n",
      " 84%|████████▍ | 325/385 [00:10<00:04, 14.09it/s]\u001b[A\n",
      " 85%|████████▍ | 327/385 [00:11<00:04, 14.22it/s]\u001b[A\n",
      " 85%|████████▌ | 329/385 [00:11<00:03, 14.12it/s]\u001b[A\n",
      " 86%|████████▌ | 331/385 [00:11<00:03, 14.13it/s]\u001b[A\n",
      " 86%|████████▋ | 333/385 [00:11<00:03, 13.87it/s]\u001b[A\n",
      " 87%|████████▋ | 335/385 [00:11<00:03, 14.07it/s]\u001b[A\n",
      " 88%|████████▊ | 337/385 [00:11<00:03, 13.88it/s]\u001b[A\n",
      " 88%|████████▊ | 339/385 [00:11<00:03, 12.20it/s]\u001b[A\n",
      " 89%|████████▊ | 341/385 [00:12<00:03, 12.55it/s]\u001b[A\n",
      " 89%|████████▉ | 343/385 [00:12<00:03, 12.86it/s]\u001b[A\n",
      " 90%|████████▉ | 345/385 [00:12<00:03, 12.73it/s]\u001b[A\n",
      " 90%|█████████ | 347/385 [00:12<00:03, 12.55it/s]\u001b[A\n",
      " 91%|█████████ | 349/385 [00:12<00:02, 12.63it/s]\u001b[A\n",
      " 91%|█████████ | 351/385 [00:12<00:02, 12.82it/s]\u001b[A\n",
      " 92%|█████████▏| 353/385 [00:13<00:02, 12.74it/s]\u001b[A\n",
      " 92%|█████████▏| 355/385 [00:13<00:02, 12.75it/s]\u001b[A\n",
      " 93%|█████████▎| 357/385 [00:13<00:02, 12.75it/s]\u001b[A\n",
      " 93%|█████████▎| 359/385 [00:13<00:02, 12.56it/s]\u001b[A\n",
      " 94%|█████████▍| 361/385 [00:13<00:01, 12.45it/s]\u001b[A\n",
      " 94%|█████████▍| 363/385 [00:13<00:01, 11.82it/s]\u001b[A\n",
      " 95%|█████████▍| 365/385 [00:14<00:01, 11.54it/s]\u001b[A\n",
      " 95%|█████████▌| 367/385 [00:14<00:01, 11.49it/s]\u001b[A\n",
      " 96%|█████████▌| 369/385 [00:14<00:01, 11.68it/s]\u001b[A\n",
      " 96%|█████████▋| 371/385 [00:14<00:01, 11.91it/s]\u001b[A\n",
      " 97%|█████████▋| 373/385 [00:14<00:00, 12.27it/s]\u001b[A\n",
      " 97%|█████████▋| 375/385 [00:14<00:00, 12.15it/s]\u001b[A\n",
      " 98%|█████████▊| 377/385 [00:15<00:00, 11.87it/s]\u001b[A\n",
      " 98%|█████████▊| 379/385 [00:15<00:00, 11.06it/s]\u001b[A\n",
      " 99%|█████████▉| 381/385 [00:15<00:00, 11.24it/s]\u001b[A\n",
      " 99%|█████████▉| 383/385 [00:15<00:00, 11.54it/s]\u001b[A\n",
      "100%|██████████| 385/385 [00:15<00:00, 24.41it/s]\u001b[A\n"
     ]
    }
   ],
   "source": [
    "for i in tqdm(range(rtrend.shape[0])):\n",
    "    entry = rtrend.years.iloc[i][1:-1]\n",
    "    clean = entry.replace(' ','').split(',')\n",
    "    \n",
    "    year = []\n",
    "    papers = []\n",
    "\n",
    "\n",
    "    for j in range(len(clean)):\n",
    "        \n",
    "        temp = clean[j].split(':')\n",
    "\n",
    "        year.append(int(temp[0][1:-1]))\n",
    "        papers.append(int(temp[1]))\n",
    "\n",
    "    df = pd.DataFrame({'year':year,rtrend.gene.iloc[i]:papers})\n",
    "    gtrend = gtrend.merge(df,left_on='year',right_on='year',how='outer')\n",
    "    "
   ]
  },
  {
   "cell_type": "code",
   "execution_count": 96,
   "metadata": {},
   "outputs": [
    {
     "data": {
      "text/html": [
       "<div>\n",
       "<style scoped>\n",
       "    .dataframe tbody tr th:only-of-type {\n",
       "        vertical-align: middle;\n",
       "    }\n",
       "\n",
       "    .dataframe tbody tr th {\n",
       "        vertical-align: top;\n",
       "    }\n",
       "\n",
       "    .dataframe thead th {\n",
       "        text-align: right;\n",
       "    }\n",
       "</style>\n",
       "<table border=\"1\" class=\"dataframe\">\n",
       "  <thead>\n",
       "    <tr style=\"text-align: right;\">\n",
       "      <th></th>\n",
       "      <th>year</th>\n",
       "      <th>esr1</th>\n",
       "      <th>f2r</th>\n",
       "      <th>ntsr1</th>\n",
       "      <th>avpr2</th>\n",
       "      <th>nr1i2</th>\n",
       "      <th>apela</th>\n",
       "      <th>ptgir</th>\n",
       "      <th>met</th>\n",
       "      <th>oprm1</th>\n",
       "      <th>...</th>\n",
       "      <th>gpr75</th>\n",
       "      <th>p2ry10</th>\n",
       "      <th>celsr2</th>\n",
       "      <th>or2h2</th>\n",
       "      <th>adgrg5</th>\n",
       "      <th>mlnr</th>\n",
       "      <th>gpr27</th>\n",
       "      <th>or2y1</th>\n",
       "      <th>or1a2</th>\n",
       "      <th>gpr107</th>\n",
       "    </tr>\n",
       "  </thead>\n",
       "  <tbody>\n",
       "    <tr>\n",
       "      <th>0</th>\n",
       "      <td>1946</td>\n",
       "      <td>NaN</td>\n",
       "      <td>1.0</td>\n",
       "      <td>1.0</td>\n",
       "      <td>NaN</td>\n",
       "      <td>NaN</td>\n",
       "      <td>NaN</td>\n",
       "      <td>NaN</td>\n",
       "      <td>NaN</td>\n",
       "      <td>NaN</td>\n",
       "      <td>...</td>\n",
       "      <td>NaN</td>\n",
       "      <td>NaN</td>\n",
       "      <td>NaN</td>\n",
       "      <td>NaN</td>\n",
       "      <td>NaN</td>\n",
       "      <td>NaN</td>\n",
       "      <td>NaN</td>\n",
       "      <td>NaN</td>\n",
       "      <td>NaN</td>\n",
       "      <td>NaN</td>\n",
       "    </tr>\n",
       "    <tr>\n",
       "      <th>1</th>\n",
       "      <td>1947</td>\n",
       "      <td>NaN</td>\n",
       "      <td>NaN</td>\n",
       "      <td>NaN</td>\n",
       "      <td>NaN</td>\n",
       "      <td>NaN</td>\n",
       "      <td>NaN</td>\n",
       "      <td>NaN</td>\n",
       "      <td>NaN</td>\n",
       "      <td>NaN</td>\n",
       "      <td>...</td>\n",
       "      <td>NaN</td>\n",
       "      <td>NaN</td>\n",
       "      <td>NaN</td>\n",
       "      <td>NaN</td>\n",
       "      <td>NaN</td>\n",
       "      <td>NaN</td>\n",
       "      <td>NaN</td>\n",
       "      <td>NaN</td>\n",
       "      <td>NaN</td>\n",
       "      <td>NaN</td>\n",
       "    </tr>\n",
       "    <tr>\n",
       "      <th>2</th>\n",
       "      <td>1948</td>\n",
       "      <td>1.0</td>\n",
       "      <td>3.0</td>\n",
       "      <td>1.0</td>\n",
       "      <td>1.0</td>\n",
       "      <td>1.0</td>\n",
       "      <td>1.0</td>\n",
       "      <td>NaN</td>\n",
       "      <td>1.0</td>\n",
       "      <td>1.0</td>\n",
       "      <td>...</td>\n",
       "      <td>NaN</td>\n",
       "      <td>NaN</td>\n",
       "      <td>NaN</td>\n",
       "      <td>NaN</td>\n",
       "      <td>NaN</td>\n",
       "      <td>NaN</td>\n",
       "      <td>NaN</td>\n",
       "      <td>NaN</td>\n",
       "      <td>NaN</td>\n",
       "      <td>NaN</td>\n",
       "    </tr>\n",
       "    <tr>\n",
       "      <th>3</th>\n",
       "      <td>1949</td>\n",
       "      <td>1.0</td>\n",
       "      <td>4.0</td>\n",
       "      <td>NaN</td>\n",
       "      <td>1.0</td>\n",
       "      <td>1.0</td>\n",
       "      <td>NaN</td>\n",
       "      <td>1.0</td>\n",
       "      <td>NaN</td>\n",
       "      <td>1.0</td>\n",
       "      <td>...</td>\n",
       "      <td>NaN</td>\n",
       "      <td>NaN</td>\n",
       "      <td>NaN</td>\n",
       "      <td>NaN</td>\n",
       "      <td>NaN</td>\n",
       "      <td>NaN</td>\n",
       "      <td>NaN</td>\n",
       "      <td>NaN</td>\n",
       "      <td>NaN</td>\n",
       "      <td>NaN</td>\n",
       "    </tr>\n",
       "    <tr>\n",
       "      <th>4</th>\n",
       "      <td>1950</td>\n",
       "      <td>NaN</td>\n",
       "      <td>2.0</td>\n",
       "      <td>NaN</td>\n",
       "      <td>1.0</td>\n",
       "      <td>NaN</td>\n",
       "      <td>NaN</td>\n",
       "      <td>NaN</td>\n",
       "      <td>1.0</td>\n",
       "      <td>NaN</td>\n",
       "      <td>...</td>\n",
       "      <td>NaN</td>\n",
       "      <td>NaN</td>\n",
       "      <td>NaN</td>\n",
       "      <td>NaN</td>\n",
       "      <td>NaN</td>\n",
       "      <td>NaN</td>\n",
       "      <td>NaN</td>\n",
       "      <td>NaN</td>\n",
       "      <td>NaN</td>\n",
       "      <td>NaN</td>\n",
       "    </tr>\n",
       "  </tbody>\n",
       "</table>\n",
       "<p>5 rows × 386 columns</p>\n",
       "</div>"
      ],
      "text/plain": [
       "   year  esr1  f2r  ntsr1  avpr2  nr1i2  apela  ptgir  met  oprm1  ...  gpr75  \\\n",
       "0  1946   NaN  1.0    1.0    NaN    NaN    NaN    NaN  NaN    NaN  ...    NaN   \n",
       "1  1947   NaN  NaN    NaN    NaN    NaN    NaN    NaN  NaN    NaN  ...    NaN   \n",
       "2  1948   1.0  3.0    1.0    1.0    1.0    1.0    NaN  1.0    1.0  ...    NaN   \n",
       "3  1949   1.0  4.0    NaN    1.0    1.0    NaN    1.0  NaN    1.0  ...    NaN   \n",
       "4  1950   NaN  2.0    NaN    1.0    NaN    NaN    NaN  1.0    NaN  ...    NaN   \n",
       "\n",
       "   p2ry10  celsr2  or2h2  adgrg5  mlnr  gpr27  or2y1  or1a2  gpr107  \n",
       "0     NaN     NaN    NaN     NaN   NaN    NaN    NaN    NaN     NaN  \n",
       "1     NaN     NaN    NaN     NaN   NaN    NaN    NaN    NaN     NaN  \n",
       "2     NaN     NaN    NaN     NaN   NaN    NaN    NaN    NaN     NaN  \n",
       "3     NaN     NaN    NaN     NaN   NaN    NaN    NaN    NaN     NaN  \n",
       "4     NaN     NaN    NaN     NaN   NaN    NaN    NaN    NaN     NaN  \n",
       "\n",
       "[5 rows x 386 columns]"
      ]
     },
     "execution_count": 96,
     "metadata": {},
     "output_type": "execute_result"
    }
   ],
   "source": [
    "gtrend.head()"
   ]
  },
  {
   "cell_type": "code",
   "execution_count": 104,
   "metadata": {},
   "outputs": [],
   "source": [
    "gtrend.to_csv('geneTrend_total.csv')"
   ]
  },
  {
   "cell_type": "code",
   "execution_count": 111,
   "metadata": {},
   "outputs": [],
   "source": [
    "alldata = pd.read_csv('alldata.csv',index_col=0)"
   ]
  },
  {
   "cell_type": "code",
   "execution_count": 112,
   "metadata": {},
   "outputs": [
    {
     "data": {
      "text/html": [
       "<div>\n",
       "<style scoped>\n",
       "    .dataframe tbody tr th:only-of-type {\n",
       "        vertical-align: middle;\n",
       "    }\n",
       "\n",
       "    .dataframe tbody tr th {\n",
       "        vertical-align: top;\n",
       "    }\n",
       "\n",
       "    .dataframe thead th {\n",
       "        text-align: right;\n",
       "    }\n",
       "</style>\n",
       "<table border=\"1\" class=\"dataframe\">\n",
       "  <thead>\n",
       "    <tr style=\"text-align: right;\">\n",
       "      <th></th>\n",
       "      <th>Id</th>\n",
       "      <th>year</th>\n",
       "      <th>affiliation</th>\n",
       "      <th>fourgram</th>\n",
       "      <th>topics</th>\n",
       "    </tr>\n",
       "  </thead>\n",
       "  <tbody>\n",
       "    <tr>\n",
       "      <th>0</th>\n",
       "      <td>24877594</td>\n",
       "      <td>2014.0</td>\n",
       "      <td>[]</td>\n",
       "      <td>what we know and do_not know_about the cannabi...</td>\n",
       "      <td>[22, 16, 11, 10]</td>\n",
       "    </tr>\n",
       "    <tr>\n",
       "      <th>1</th>\n",
       "      <td>16889837</td>\n",
       "      <td>2006.0</td>\n",
       "      <td>glaxosmithkline</td>\n",
       "      <td>allosteric agonist of 7tm receptor expand the ...</td>\n",
       "      <td>[22, 14, 4, 17, 12, 10, 3, 20]</td>\n",
       "    </tr>\n",
       "    <tr>\n",
       "      <th>2</th>\n",
       "      <td>31068464</td>\n",
       "      <td>2019.0</td>\n",
       "      <td>[' the johns hopkins university']</td>\n",
       "      <td>mrgprx4 be a g_protein_couple receptor activat...</td>\n",
       "      <td>[22, 19, 5, 7, 20, 24, 3, 31]</td>\n",
       "    </tr>\n",
       "    <tr>\n",
       "      <th>3</th>\n",
       "      <td>30610192</td>\n",
       "      <td>2019.0</td>\n",
       "      <td>[' oregon national primate research center, or...</td>\n",
       "      <td>modulation of gpr39 a g_protein_couple recepto...</td>\n",
       "      <td>[28, 22, 5, 24, 6, 29, 10, 31]</td>\n",
       "    </tr>\n",
       "    <tr>\n",
       "      <th>4</th>\n",
       "      <td>30289386</td>\n",
       "      <td>2018.0</td>\n",
       "      <td>[' washington university']</td>\n",
       "      <td>simulation of spontaneous g_protein activation...</td>\n",
       "      <td>[22, 17, 14, 29, 4, 0, 15, 20]</td>\n",
       "    </tr>\n",
       "  </tbody>\n",
       "</table>\n",
       "</div>"
      ],
      "text/plain": [
       "         Id    year                                        affiliation  \\\n",
       "0  24877594  2014.0                                                 []   \n",
       "1  16889837  2006.0                                    glaxosmithkline   \n",
       "2  31068464  2019.0                  [' the johns hopkins university']   \n",
       "3  30610192  2019.0  [' oregon national primate research center, or...   \n",
       "4  30289386  2018.0                         [' washington university']   \n",
       "\n",
       "                                            fourgram  \\\n",
       "0  what we know and do_not know_about the cannabi...   \n",
       "1  allosteric agonist of 7tm receptor expand the ...   \n",
       "2  mrgprx4 be a g_protein_couple receptor activat...   \n",
       "3  modulation of gpr39 a g_protein_couple recepto...   \n",
       "4  simulation of spontaneous g_protein activation...   \n",
       "\n",
       "                           topics  \n",
       "0                [22, 16, 11, 10]  \n",
       "1  [22, 14, 4, 17, 12, 10, 3, 20]  \n",
       "2   [22, 19, 5, 7, 20, 24, 3, 31]  \n",
       "3  [28, 22, 5, 24, 6, 29, 10, 31]  \n",
       "4  [22, 17, 14, 29, 4, 0, 15, 20]  "
      ]
     },
     "execution_count": 112,
     "metadata": {},
     "output_type": "execute_result"
    }
   ],
   "source": [
    "alldata.head()"
   ]
  },
  {
   "cell_type": "code",
   "execution_count": 115,
   "metadata": {},
   "outputs": [
    {
     "data": {
      "text/plain": [
       "Counter({1946.0: 1,\n",
       "         1948.0: 5,\n",
       "         1949.0: 6,\n",
       "         1950.0: 7,\n",
       "         1951.0: 5,\n",
       "         1952.0: 7,\n",
       "         1953.0: 11,\n",
       "         1954.0: 12,\n",
       "         1955.0: 12,\n",
       "         1956.0: 15,\n",
       "         1957.0: 18,\n",
       "         1958.0: 19,\n",
       "         1959.0: 8,\n",
       "         1960.0: 7,\n",
       "         1961.0: 17,\n",
       "         1962.0: 13,\n",
       "         1963.0: 20,\n",
       "         1964.0: 28,\n",
       "         1965.0: 14,\n",
       "         1967.0: 1,\n",
       "         1968.0: 5,\n",
       "         1969.0: 6,\n",
       "         1970.0: 20,\n",
       "         1971.0: 177,\n",
       "         1972.0: 275,\n",
       "         1973.0: 295,\n",
       "         1974.0: 432,\n",
       "         1975.0: 509,\n",
       "         1976.0: 809,\n",
       "         1977.0: 1291,\n",
       "         1978.0: 1571,\n",
       "         1979.0: 1663,\n",
       "         1980.0: 2258,\n",
       "         1981.0: 2562,\n",
       "         1982.0: 3094,\n",
       "         1983.0: 3225,\n",
       "         1984.0: 3795,\n",
       "         1985.0: 4130,\n",
       "         1986.0: 4359,\n",
       "         1987.0: 4254,\n",
       "         1988.0: 4706,\n",
       "         1989.0: 5013,\n",
       "         1990.0: 5457,\n",
       "         1991.0: 5781,\n",
       "         1992.0: 6031,\n",
       "         1993.0: 6650,\n",
       "         1994.0: 6863,\n",
       "         1995.0: 7089,\n",
       "         1996.0: 7416,\n",
       "         1997.0: 7830,\n",
       "         1998.0: 8604,\n",
       "         1999.0: 9043,\n",
       "         2000.0: 9735,\n",
       "         2001.0: 9728,\n",
       "         2002.0: 9862,\n",
       "         2003.0: 10029,\n",
       "         2004.0: 10150,\n",
       "         2005.0: 10286,\n",
       "         2006.0: 10640,\n",
       "         2007.0: 10675,\n",
       "         2008.0: 11289,\n",
       "         2009.0: 11130,\n",
       "         2010.0: 11267,\n",
       "         2011.0: 11299,\n",
       "         2012.0: 11981,\n",
       "         2013.0: 12120,\n",
       "         2014.0: 11639,\n",
       "         2015.0: 11556,\n",
       "         2016.0: 10869,\n",
       "         2017.0: 10588,\n",
       "         2018.0: 9504,\n",
       "         2019.0: 3760})"
      ]
     },
     "execution_count": 115,
     "metadata": {},
     "output_type": "execute_result"
    }
   ],
   "source": [
    "from collections import Counter\n",
    "alldata = alldata.sort_values(by='year')\n",
    "allyear = alldata['year']\n",
    "yearct = Counter(allyear)\n",
    "yearct"
   ]
  },
  {
   "cell_type": "code",
   "execution_count": null,
   "metadata": {},
   "outputs": [],
   "source": [
    "gtrend1 = gtrend.drop(index = 1)\n",
    "gtrend2 = gtrend1.drop(index = 20)\n"
   ]
  },
  {
   "cell_type": "code",
   "execution_count": 136,
   "metadata": {},
   "outputs": [],
   "source": [
    "gtrend = gtrend2"
   ]
  },
  {
   "cell_type": "code",
   "execution_count": 149,
   "metadata": {},
   "outputs": [
    {
     "data": {
      "text/html": [
       "<div>\n",
       "<style scoped>\n",
       "    .dataframe tbody tr th:only-of-type {\n",
       "        vertical-align: middle;\n",
       "    }\n",
       "\n",
       "    .dataframe tbody tr th {\n",
       "        vertical-align: top;\n",
       "    }\n",
       "\n",
       "    .dataframe thead th {\n",
       "        text-align: right;\n",
       "    }\n",
       "</style>\n",
       "<table border=\"1\" class=\"dataframe\">\n",
       "  <thead>\n",
       "    <tr style=\"text-align: right;\">\n",
       "      <th></th>\n",
       "      <th>year</th>\n",
       "      <th>count</th>\n",
       "    </tr>\n",
       "  </thead>\n",
       "  <tbody>\n",
       "    <tr>\n",
       "      <th>0</th>\n",
       "      <td>1946.0</td>\n",
       "      <td>1</td>\n",
       "    </tr>\n",
       "    <tr>\n",
       "      <th>1</th>\n",
       "      <td>1948.0</td>\n",
       "      <td>5</td>\n",
       "    </tr>\n",
       "    <tr>\n",
       "      <th>2</th>\n",
       "      <td>1949.0</td>\n",
       "      <td>6</td>\n",
       "    </tr>\n",
       "    <tr>\n",
       "      <th>3</th>\n",
       "      <td>1950.0</td>\n",
       "      <td>7</td>\n",
       "    </tr>\n",
       "    <tr>\n",
       "      <th>4</th>\n",
       "      <td>1951.0</td>\n",
       "      <td>5</td>\n",
       "    </tr>\n",
       "  </tbody>\n",
       "</table>\n",
       "</div>"
      ],
      "text/plain": [
       "     year  count\n",
       "0  1946.0      1\n",
       "1  1948.0      5\n",
       "2  1949.0      6\n",
       "3  1950.0      7\n",
       "4  1951.0      5"
      ]
     },
     "execution_count": 149,
     "metadata": {},
     "output_type": "execute_result"
    }
   ],
   "source": [
    "yearcount = pd.DataFrame({'year':list(yearct.keys()),'count':list(yearct.values())})\n",
    "yearcount.head()"
   ]
  },
  {
   "cell_type": "code",
   "execution_count": 157,
   "metadata": {},
   "outputs": [
    {
     "data": {
      "text/plain": [
       "(72, 387)"
      ]
     },
     "execution_count": 157,
     "metadata": {},
     "output_type": "execute_result"
    }
   ],
   "source": [
    "normgtrend = gtrend.merge(yearcount,left_on='year',right_on='year')\n",
    "normgtrend.shape"
   ]
  },
  {
   "cell_type": "code",
   "execution_count": 158,
   "metadata": {},
   "outputs": [],
   "source": [
    "for col in normgtrend.columns[1:-1]:\n",
    "    normgtrend[col] = normgtrend[col]/normgtrend['count']"
   ]
  },
  {
   "cell_type": "code",
   "execution_count": 159,
   "metadata": {},
   "outputs": [
    {
     "data": {
      "text/html": [
       "<div>\n",
       "<style scoped>\n",
       "    .dataframe tbody tr th:only-of-type {\n",
       "        vertical-align: middle;\n",
       "    }\n",
       "\n",
       "    .dataframe tbody tr th {\n",
       "        vertical-align: top;\n",
       "    }\n",
       "\n",
       "    .dataframe thead th {\n",
       "        text-align: right;\n",
       "    }\n",
       "</style>\n",
       "<table border=\"1\" class=\"dataframe\">\n",
       "  <thead>\n",
       "    <tr style=\"text-align: right;\">\n",
       "      <th></th>\n",
       "      <th>year</th>\n",
       "      <th>esr1</th>\n",
       "      <th>f2r</th>\n",
       "      <th>ntsr1</th>\n",
       "      <th>avpr2</th>\n",
       "      <th>nr1i2</th>\n",
       "      <th>apela</th>\n",
       "      <th>ptgir</th>\n",
       "      <th>met</th>\n",
       "      <th>oprm1</th>\n",
       "      <th>...</th>\n",
       "      <th>p2ry10</th>\n",
       "      <th>celsr2</th>\n",
       "      <th>or2h2</th>\n",
       "      <th>adgrg5</th>\n",
       "      <th>mlnr</th>\n",
       "      <th>gpr27</th>\n",
       "      <th>or2y1</th>\n",
       "      <th>or1a2</th>\n",
       "      <th>gpr107</th>\n",
       "      <th>count</th>\n",
       "    </tr>\n",
       "  </thead>\n",
       "  <tbody>\n",
       "    <tr>\n",
       "      <th>0</th>\n",
       "      <td>1946</td>\n",
       "      <td>NaN</td>\n",
       "      <td>1.000000</td>\n",
       "      <td>1.0</td>\n",
       "      <td>NaN</td>\n",
       "      <td>NaN</td>\n",
       "      <td>NaN</td>\n",
       "      <td>NaN</td>\n",
       "      <td>NaN</td>\n",
       "      <td>NaN</td>\n",
       "      <td>...</td>\n",
       "      <td>NaN</td>\n",
       "      <td>NaN</td>\n",
       "      <td>NaN</td>\n",
       "      <td>NaN</td>\n",
       "      <td>NaN</td>\n",
       "      <td>NaN</td>\n",
       "      <td>NaN</td>\n",
       "      <td>NaN</td>\n",
       "      <td>NaN</td>\n",
       "      <td>1</td>\n",
       "    </tr>\n",
       "    <tr>\n",
       "      <th>1</th>\n",
       "      <td>1948</td>\n",
       "      <td>0.200000</td>\n",
       "      <td>0.600000</td>\n",
       "      <td>0.2</td>\n",
       "      <td>0.200000</td>\n",
       "      <td>0.200000</td>\n",
       "      <td>0.2</td>\n",
       "      <td>NaN</td>\n",
       "      <td>0.200000</td>\n",
       "      <td>0.200000</td>\n",
       "      <td>...</td>\n",
       "      <td>NaN</td>\n",
       "      <td>NaN</td>\n",
       "      <td>NaN</td>\n",
       "      <td>NaN</td>\n",
       "      <td>NaN</td>\n",
       "      <td>NaN</td>\n",
       "      <td>NaN</td>\n",
       "      <td>NaN</td>\n",
       "      <td>NaN</td>\n",
       "      <td>5</td>\n",
       "    </tr>\n",
       "    <tr>\n",
       "      <th>2</th>\n",
       "      <td>1949</td>\n",
       "      <td>0.166667</td>\n",
       "      <td>0.666667</td>\n",
       "      <td>NaN</td>\n",
       "      <td>0.166667</td>\n",
       "      <td>0.166667</td>\n",
       "      <td>NaN</td>\n",
       "      <td>0.166667</td>\n",
       "      <td>NaN</td>\n",
       "      <td>0.166667</td>\n",
       "      <td>...</td>\n",
       "      <td>NaN</td>\n",
       "      <td>NaN</td>\n",
       "      <td>NaN</td>\n",
       "      <td>NaN</td>\n",
       "      <td>NaN</td>\n",
       "      <td>NaN</td>\n",
       "      <td>NaN</td>\n",
       "      <td>NaN</td>\n",
       "      <td>NaN</td>\n",
       "      <td>6</td>\n",
       "    </tr>\n",
       "    <tr>\n",
       "      <th>3</th>\n",
       "      <td>1950</td>\n",
       "      <td>NaN</td>\n",
       "      <td>0.285714</td>\n",
       "      <td>NaN</td>\n",
       "      <td>0.142857</td>\n",
       "      <td>NaN</td>\n",
       "      <td>NaN</td>\n",
       "      <td>NaN</td>\n",
       "      <td>0.142857</td>\n",
       "      <td>NaN</td>\n",
       "      <td>...</td>\n",
       "      <td>NaN</td>\n",
       "      <td>NaN</td>\n",
       "      <td>NaN</td>\n",
       "      <td>NaN</td>\n",
       "      <td>NaN</td>\n",
       "      <td>NaN</td>\n",
       "      <td>NaN</td>\n",
       "      <td>NaN</td>\n",
       "      <td>NaN</td>\n",
       "      <td>7</td>\n",
       "    </tr>\n",
       "    <tr>\n",
       "      <th>4</th>\n",
       "      <td>1951</td>\n",
       "      <td>0.600000</td>\n",
       "      <td>0.200000</td>\n",
       "      <td>NaN</td>\n",
       "      <td>0.200000</td>\n",
       "      <td>NaN</td>\n",
       "      <td>NaN</td>\n",
       "      <td>NaN</td>\n",
       "      <td>NaN</td>\n",
       "      <td>NaN</td>\n",
       "      <td>...</td>\n",
       "      <td>NaN</td>\n",
       "      <td>NaN</td>\n",
       "      <td>NaN</td>\n",
       "      <td>NaN</td>\n",
       "      <td>NaN</td>\n",
       "      <td>NaN</td>\n",
       "      <td>NaN</td>\n",
       "      <td>NaN</td>\n",
       "      <td>NaN</td>\n",
       "      <td>5</td>\n",
       "    </tr>\n",
       "  </tbody>\n",
       "</table>\n",
       "<p>5 rows × 387 columns</p>\n",
       "</div>"
      ],
      "text/plain": [
       "   year      esr1       f2r  ntsr1     avpr2     nr1i2  apela     ptgir  \\\n",
       "0  1946       NaN  1.000000    1.0       NaN       NaN    NaN       NaN   \n",
       "1  1948  0.200000  0.600000    0.2  0.200000  0.200000    0.2       NaN   \n",
       "2  1949  0.166667  0.666667    NaN  0.166667  0.166667    NaN  0.166667   \n",
       "3  1950       NaN  0.285714    NaN  0.142857       NaN    NaN       NaN   \n",
       "4  1951  0.600000  0.200000    NaN  0.200000       NaN    NaN       NaN   \n",
       "\n",
       "        met     oprm1  ...  p2ry10  celsr2  or2h2  adgrg5  mlnr  gpr27  or2y1  \\\n",
       "0       NaN       NaN  ...     NaN     NaN    NaN     NaN   NaN    NaN    NaN   \n",
       "1  0.200000  0.200000  ...     NaN     NaN    NaN     NaN   NaN    NaN    NaN   \n",
       "2       NaN  0.166667  ...     NaN     NaN    NaN     NaN   NaN    NaN    NaN   \n",
       "3  0.142857       NaN  ...     NaN     NaN    NaN     NaN   NaN    NaN    NaN   \n",
       "4       NaN       NaN  ...     NaN     NaN    NaN     NaN   NaN    NaN    NaN   \n",
       "\n",
       "   or1a2  gpr107  count  \n",
       "0    NaN     NaN      1  \n",
       "1    NaN     NaN      5  \n",
       "2    NaN     NaN      6  \n",
       "3    NaN     NaN      7  \n",
       "4    NaN     NaN      5  \n",
       "\n",
       "[5 rows x 387 columns]"
      ]
     },
     "execution_count": 159,
     "metadata": {},
     "output_type": "execute_result"
    }
   ],
   "source": [
    "normgtrend.head()"
   ]
  },
  {
   "cell_type": "code",
   "execution_count": 160,
   "metadata": {},
   "outputs": [],
   "source": [
    "normgtrend.to_csv('norm_geneTrend_total.csv')"
   ]
  },
  {
   "cell_type": "code",
   "execution_count": 169,
   "metadata": {},
   "outputs": [],
   "source": [
    "import matplotlib.pyplot as plt\n",
    "def plot_gene_trend(gene):\n",
    "    data = normgtrend[['year',gene]].dropna()\n",
    "    plt.plot(data['year'], data[gene])\n",
    "    plt.xlabel('Publication Year')\n",
    "    plt.ylabel('Hotness Index\\n (paper of gene : total paper)')\n",
    "    plt.title(gene)\n",
    "    plt.show()"
   ]
  },
  {
   "cell_type": "code",
   "execution_count": 170,
   "metadata": {},
   "outputs": [
    {
     "data": {
      "image/png": "[encoded data removed]",
      "text/plain": [
       "<Figure size 432x288 with 1 Axes>"
      ]
     },
     "metadata": {
      "needs_background": "light"
     },
     "output_type": "display_data"
    }
   ],
   "source": [
    "plot_gene_trend('glp1r')"
   ]
  },
  {
   "cell_type": "code",
   "execution_count": null,
   "metadata": {},
   "outputs": [],
   "source": []
  },
  {
   "cell_type": "code",
   "execution_count": null,
   "metadata": {},
   "outputs": [],
   "source": []
  },
  {
   "cell_type": "code",
   "execution_count": null,
   "metadata": {},
   "outputs": [],
   "source": []
  },
  {
   "cell_type": "code",
   "execution_count": null,
   "metadata": {},
   "outputs": [],
   "source": []
  }
 ],
 "metadata": {
  "kernelspec": {
   "display_name": "Python 3",
   "language": "python",
   "name": "python3"
  },
  "language_info": {
   "codemirror_mode": {
    "name": "ipython",
    "version": 3
   },
   "file_extension": ".py",
   "mimetype": "text/x-python",
   "name": "python",
   "nbconvert_exporter": "python",
   "pygments_lexer": "ipython3",
   "version": "3.7.2"
  }
 },
 "nbformat": 4,
 "nbformat_minor": 2
}
